{
 "cells": [
  {
   "cell_type": "code",
   "execution_count": 215,
   "metadata": {},
   "outputs": [],
   "source": [
    "import numpy as np\n",
    "import matplotlib.pyplot as plt\n",
    "from sklearn import tree\n",
    "from sklearn import metrics as m\n",
    "from sklearn.preprocessing import OrdinalEncoder\n",
    "from sklearn.preprocessing import LabelBinarizer\n",
    "from sklearn.model_selection import cross_val_score \n",
    "from sklearn.model_selection import RepeatedKFold\n",
    "import pandas as pd"
   ]
  },
  {
   "cell_type": "markdown",
   "metadata": {},
   "source": [
    "# Adults income dataset"
   ]
  },
  {
   "cell_type": "code",
   "execution_count": 216,
   "metadata": {},
   "outputs": [
    {
     "data": {
      "text/plain": [
       "array([0, 0, 0, ..., 0, 0, 1])"
      ]
     },
     "execution_count": 216,
     "metadata": {},
     "output_type": "execute_result"
    }
   ],
   "source": [
    "adults_raw = pd.read_csv(\"./Adult/adult.data\", header=None)\n",
    "enc = OrdinalEncoder(categories='auto', dtype=int)\n",
    "enc.fit(adults_raw)\n",
    "adults=enc.transform(adults_raw)\n",
    "adults_input = adults[:,0:14]\n",
    "adults_input\n",
    "adults_target = adults[:,14]\n",
    "adults_target"
   ]
  },
  {
   "cell_type": "markdown",
   "metadata": {},
   "source": [
    "### Decision Tree"
   ]
  },
  {
   "cell_type": "code",
   "execution_count": 217,
   "metadata": {},
   "outputs": [
    {
     "data": {
      "text/plain": [
       "DecisionTreeClassifier(class_weight=None, criterion='gini', max_depth=None,\n",
       "            max_features=None, max_leaf_nodes=None,\n",
       "            min_impurity_decrease=0.0, min_impurity_split=None,\n",
       "            min_samples_leaf=1, min_samples_split=2,\n",
       "            min_weight_fraction_leaf=0.0, presort=False, random_state=None,\n",
       "            splitter='best')"
      ]
     },
     "execution_count": 217,
     "metadata": {},
     "output_type": "execute_result"
    }
   ],
   "source": [
    "tclf = tree.DecisionTreeClassifier()\n",
    "tclf.fit(adults_input,adults_target)"
   ]
  },
  {
   "cell_type": "code",
   "execution_count": 218,
   "metadata": {},
   "outputs": [
    {
     "data": {
      "text/plain": [
       "array([0, 0, 1, ..., 0, 0, 1])"
      ]
     },
     "execution_count": 218,
     "metadata": {},
     "output_type": "execute_result"
    }
   ],
   "source": [
    "adults_raw_test = pd.read_csv(\"./Adult/adult.test\", header=None)\n",
    "enc = OrdinalEncoder(categories='auto', dtype=int)\n",
    "enc.fit(adults_raw_test)\n",
    "adults_test=enc.transform(adults_raw_test)\n",
    "adults_input_test = adults_test[:,0:14]\n",
    "adults_input_test\n",
    "adults_target_test = adults_test[:,14]\n",
    "adults_target_test"
   ]
  },
  {
   "cell_type": "code",
   "execution_count": 219,
   "metadata": {},
   "outputs": [
    {
     "name": "stdout",
     "output_type": "stream",
     "text": [
      "[[10812  1585]\n",
      " [ 1623  2261]]\n",
      "0.8029605061114182\n",
      "0.5821318228630278\n",
      "0.5878835153406137\n",
      "0.584993531694696\n"
     ]
    }
   ],
   "source": [
    "tclf.score(adults_input_test,adults_target_test)\n",
    "adults_test_predicted = tclf.predict(adults_input_test)\n",
    "cnf_matrix = m.confusion_matrix(adults_test_predicted, adults_target_test)\n",
    "print(cnf_matrix)\n",
    "print(m.accuracy_score(adults_target_test, adults_test_predicted))\n",
    "print(m.precision_score(adults_target_test, adults_test_predicted))\n",
    "print(m.recall_score(adults_target_test, adults_test_predicted))\n",
    "print(m.f1_score(adults_target_test, adults_test_predicted))"
   ]
  },
  {
   "cell_type": "markdown",
   "metadata": {},
   "source": [
    "### Naive Bayes"
   ]
  },
  {
   "cell_type": "code",
   "execution_count": 220,
   "metadata": {},
   "outputs": [
    {
     "name": "stdout",
     "output_type": "stream",
     "text": [
      "[[11627  2106]\n",
      " [  808  1740]]\n",
      "0.821018364965297\n",
      "0.6828885400313972\n",
      "0.45241809672386896\n",
      "0.5442602439787301\n"
     ]
    }
   ],
   "source": [
    "from sklearn.naive_bayes import GaussianNB\n",
    "gnb = GaussianNB()\n",
    "gnb.fit(adults_input,adults_target)\n",
    "gnb.score(adults_input_test,adults_target_test)\n",
    "gnb_adults_test_predicted = gnb.predict(adults_input_test)\n",
    "cnf_matrix = m.confusion_matrix(gnb_adults_test_predicted, adults_target_test)\n",
    "print(cnf_matrix)\n",
    "print(m.accuracy_score(adults_target_test, gnb_adults_test_predicted))\n",
    "print(m.precision_score(adults_target_test, gnb_adults_test_predicted))\n",
    "print(m.recall_score(adults_target_test, gnb_adults_test_predicted))\n",
    "print(m.f1_score(adults_target_test, gnb_adults_test_predicted))"
   ]
  },
  {
   "cell_type": "markdown",
   "metadata": {},
   "source": [
    "### Support vector machine"
   ]
  },
  {
   "cell_type": "code",
   "execution_count": 221,
   "metadata": {},
   "outputs": [
    {
     "name": "stdout",
     "output_type": "stream",
     "text": [
      "[[12205  3044]\n",
      " [  230   802]]\n",
      "0.7989067010625883\n",
      "0.7771317829457365\n",
      "0.20852834113364535\n",
      "0.3288232882328823\n"
     ]
    }
   ],
   "source": [
    "from sklearn.svm import SVC\n",
    "svcl = SVC(gamma='scale')\n",
    "svcl.fit(adults_input,adults_target)\n",
    "svcl.score(adults_input_test,adults_target_test)\n",
    "svcl_adults_test_predicted = svcl.predict(adults_input_test)\n",
    "cnf_matrix = m.confusion_matrix(svcl_adults_test_predicted, adults_target_test)\n",
    "print(cnf_matrix)\n",
    "print(m.accuracy_score(adults_target_test, svcl_adults_test_predicted))\n",
    "print(m.precision_score(adults_target_test, svcl_adults_test_predicted))\n",
    "print(m.recall_score(adults_target_test, svcl_adults_test_predicted))\n",
    "print(m.f1_score(adults_target_test, svcl_adults_test_predicted))"
   ]
  },
  {
   "cell_type": "markdown",
   "metadata": {},
   "source": [
    "-----------\n",
    "\n",
    "# Dishonest Internet users Dataset Data Set"
   ]
  },
  {
   "cell_type": "code",
   "execution_count": 222,
   "metadata": {},
   "outputs": [
    {
     "data": {
      "image/png": "[encoded data removed]",
      "text/plain": [
       "<Figure size 432x288 with 1 Axes>"
      ]
     },
     "metadata": {
      "needs_background": "light"
     },
     "output_type": "display_data"
    },
    {
     "data": {
      "image/png": "[encoded data removed]",
      "text/plain": [
       "<Figure size 432x288 with 1 Axes>"
      ]
     },
     "metadata": {
      "needs_background": "light"
     },
     "output_type": "display_data"
    },
    {
     "data": {
      "image/png": "[encoded data removed]",
      "text/plain": [
       "<Figure size 432x288 with 1 Axes>"
      ]
     },
     "metadata": {
      "needs_background": "light"
     },
     "output_type": "display_data"
    },
    {
     "data": {
      "image/png": "[encoded data removed]",
      "text/plain": [
       "<Figure size 432x288 with 1 Axes>"
      ]
     },
     "metadata": {
      "needs_background": "light"
     },
     "output_type": "display_data"
    },
    {
     "data": {
      "image/png": "[encoded data removed]",
      "text/plain": [
       "<Figure size 432x288 with 1 Axes>"
      ]
     },
     "metadata": {
      "needs_background": "light"
     },
     "output_type": "display_data"
    }
   ],
   "source": [
    "header = ['CT','CU', 'LT', 'TC', 'TS']\n",
    "internet_raw = pd.read_csv('./internet/internet.txt', sep=' ',names=header)\n",
    "enc = OrdinalEncoder(categories='auto', dtype=int)\n",
    "enc.fit(internet_raw)\n",
    "internet=enc.transform(internet_raw)\n",
    "internet_input = internet[:,0:4]\n",
    "internet_target = internet[:,4]\n",
    "\n",
    "for item in header:\n",
    "    internet_raw[item].value_counts().plot(title = item, kind='bar')\n",
    "    plt.show()\n",
    "\n",
    "from sklearn.model_selection import cross_val_predict\n",
    "from sklearn.metrics import confusion_matrix\n",
    "\n",
    "def evaluate(clf,x,y, k):\n",
    "\n",
    "    cvs=cross_val_score(clf,x, y, scoring='accuracy', cv=k)\n",
    "    score=sum(cvs)/len(cvs)\n",
    "    print('Avg. 5 fold cross validation accuracy: '+str(score))\n",
    "\n",
    "    y_pred = cross_val_predict(clf, x, y, cv=5)\n",
    "    cnf = confusion_matrix(y, y_pred)\n",
    "    print('Confusion matrix:')\n",
    "    print(cnf)"
   ]
  },
  {
   "cell_type": "markdown",
   "metadata": {},
   "source": [
    "### Decision Tree"
   ]
  },
  {
   "cell_type": "code",
   "execution_count": 223,
   "metadata": {},
   "outputs": [
    {
     "data": {
      "text/plain": [
       "DecisionTreeClassifier(class_weight=None, criterion='gini', max_depth=None,\n",
       "            max_features=None, max_leaf_nodes=None,\n",
       "            min_impurity_decrease=0.0, min_impurity_split=None,\n",
       "            min_samples_leaf=1, min_samples_split=2,\n",
       "            min_weight_fraction_leaf=0.0, presort=False, random_state=None,\n",
       "            splitter='best')"
      ]
     },
     "execution_count": 223,
     "metadata": {},
     "output_type": "execute_result"
    }
   ],
   "source": [
    "tclf = tree.DecisionTreeClassifier()\n",
    "tclf.fit(internet_input,internet_target)"
   ]
  },
  {
   "cell_type": "code",
   "execution_count": 224,
   "metadata": {},
   "outputs": [
    {
     "name": "stdout",
     "output_type": "stream",
     "text": [
      "Avg. 5 fold cross validation accuracy: 0.9938461538461538\n",
      "Confusion matrix:\n",
      "[[225   0]\n",
      " [  0  97]]\n"
     ]
    }
   ],
   "source": [
    "evaluate(tclf,internet_input, internet_target, 5)"
   ]
  },
  {
   "cell_type": "markdown",
   "metadata": {},
   "source": [
    "### Random Forest"
   ]
  },
  {
   "cell_type": "code",
   "execution_count": 225,
   "metadata": {},
   "outputs": [
    {
     "data": {
      "text/plain": [
       "RandomForestClassifier(bootstrap=True, class_weight=None, criterion='gini',\n",
       "            max_depth=None, max_features='auto', max_leaf_nodes=None,\n",
       "            min_impurity_decrease=0.0, min_impurity_split=None,\n",
       "            min_samples_leaf=1, min_samples_split=2,\n",
       "            min_weight_fraction_leaf=0.0, n_estimators=100, n_jobs=None,\n",
       "            oob_score=False, random_state=None, verbose=0,\n",
       "            warm_start=False)"
      ]
     },
     "execution_count": 225,
     "metadata": {},
     "output_type": "execute_result"
    }
   ],
   "source": [
    "from sklearn.ensemble import RandomForestClassifier\n",
    "\n",
    "rfclf = RandomForestClassifier(n_estimators = 100)\n",
    "rfclf.fit(adults_input, adults_target)"
   ]
  },
  {
   "cell_type": "code",
   "execution_count": 226,
   "metadata": {},
   "outputs": [
    {
     "name": "stdout",
     "output_type": "stream",
     "text": [
      "Avg. 5 fold cross validation accuracy: 1.0\n",
      "Confusion matrix:\n",
      "[[225   0]\n",
      " [  0  97]]\n"
     ]
    }
   ],
   "source": [
    "evaluate(rfclf,internet_input, internet_target, 5)"
   ]
  },
  {
   "cell_type": "markdown",
   "metadata": {},
   "source": [
    "### Naive Bayes"
   ]
  },
  {
   "cell_type": "code",
   "execution_count": 231,
   "metadata": {},
   "outputs": [
    {
     "data": {
      "text/plain": [
       "GaussianNB(priors=None, var_smoothing=1e-09)"
      ]
     },
     "execution_count": 231,
     "metadata": {},
     "output_type": "execute_result"
    }
   ],
   "source": [
    "from sklearn.naive_bayes import GaussianNB\n",
    "gnb = GaussianNB()\n",
    "gnb.fit(internet_input,internet_target)"
   ]
  },
  {
   "cell_type": "code",
   "execution_count": 232,
   "metadata": {},
   "outputs": [
    {
     "name": "stdout",
     "output_type": "stream",
     "text": [
      "Avg. 5 fold cross validation accuracy: 0.5588461538461539\n",
      "Confusion matrix:\n",
      "[[149  76]\n",
      " [ 66  31]]\n"
     ]
    }
   ],
   "source": [
    "evaluate(gnb,internet_input, internet_target,5)"
   ]
  },
  {
   "cell_type": "markdown",
   "metadata": {},
   "source": [
    "### Support vector machine"
   ]
  },
  {
   "cell_type": "code",
   "execution_count": 233,
   "metadata": {},
   "outputs": [
    {
     "data": {
      "text/plain": [
       "SVC(C=1.0, cache_size=200, class_weight=None, coef0=0.0,\n",
       "  decision_function_shape='ovr', degree=3, gamma='scale', kernel='rbf',\n",
       "  max_iter=-1, probability=False, random_state=None, shrinking=True,\n",
       "  tol=0.001, verbose=False)"
      ]
     },
     "execution_count": 233,
     "metadata": {},
     "output_type": "execute_result"
    }
   ],
   "source": [
    "from sklearn.svm import SVC\n",
    "svcl = SVC(gamma='scale')\n",
    "svcl.fit(internet_input,internet_target)"
   ]
  },
  {
   "cell_type": "code",
   "execution_count": 234,
   "metadata": {},
   "outputs": [
    {
     "name": "stdout",
     "output_type": "stream",
     "text": [
      "Avg. 5 fold cross validation accuracy: 0.5588461538461539\n",
      "Confusion matrix:\n",
      "[[149  76]\n",
      " [ 66  31]]\n"
     ]
    }
   ],
   "source": [
    "evaluate(gnb,internet_input, internet_target,5)"
   ]
  },
  {
   "cell_type": "code",
   "execution_count": null,
   "metadata": {},
   "outputs": [],
   "source": []
  }
 ],
 "metadata": {
  "kernelspec": {
   "display_name": "Python 3",
   "language": "python",
   "name": "python3"
  },
  "language_info": {
   "codemirror_mode": {
    "name": "ipython",
    "version": 3
   },
   "file_extension": ".py",
   "mimetype": "text/x-python",
   "name": "python",
   "nbconvert_exporter": "python",
   "pygments_lexer": "ipython3",
   "version": "3.7.1"
  }
 },
 "nbformat": 4,
 "nbformat_minor": 2
}
