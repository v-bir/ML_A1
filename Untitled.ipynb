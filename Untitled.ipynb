{
 "cells": [
  {
   "cell_type": "code",
   "execution_count": 2,
   "metadata": {},
   "outputs": [
    {
     "data": {
      "text/plain": [
       "array([0, 0, 0, ..., 0, 0, 1])"
      ]
     },
     "execution_count": 2,
     "metadata": {},
     "output_type": "execute_result"
    }
   ],
   "source": [
    "import numpy as np\n",
    "import matplotlib.pyplot as plt\n",
    "from sklearn import tree\n",
    "from sklearn import preprocessing\n",
    "from sklearn import metrics as m\n",
    "from sklearn.preprocessing import OrdinalEncoder\n",
    "import pandas as pd\n",
    "\n",
    "adults_raw = pd.read_csv(\"./Adult/adult.data\", header=None)\n",
    "enc = OrdinalEncoder(categories='auto', dtype=int)\n",
    "enc.fit(adults_raw)\n",
    "adults=enc.transform(adults_raw)\n",
    "adults_input = adults[:,0:14]\n",
    "adults_input\n",
    "adults_target = adults[:,14]\n",
    "adults_target"
   ]
  },
  {
   "cell_type": "code",
   "execution_count": 3,
   "metadata": {},
   "outputs": [
    {
     "data": {
      "text/plain": [
       "DecisionTreeClassifier(class_weight=None, criterion='gini', max_depth=None,\n",
       "            max_features=None, max_leaf_nodes=None,\n",
       "            min_impurity_decrease=0.0, min_impurity_split=None,\n",
       "            min_samples_leaf=1, min_samples_split=2,\n",
       "            min_weight_fraction_leaf=0.0, presort=False, random_state=None,\n",
       "            splitter='best')"
      ]
     },
     "execution_count": 3,
     "metadata": {},
     "output_type": "execute_result"
    }
   ],
   "source": [
    "tclf = tree.DecisionTreeClassifier()\n",
    "tclf.fit(adults_input,adults_target)"
   ]
  },
  {
   "cell_type": "code",
   "execution_count": 4,
   "metadata": {},
   "outputs": [
    {
     "data": {
      "text/plain": [
       "array([0, 0, 1, ..., 0, 0, 1])"
      ]
     },
     "execution_count": 4,
     "metadata": {},
     "output_type": "execute_result"
    }
   ],
   "source": [
    "adults_raw_test = pd.read_csv(\"./Adult/adult.test\", header=None)\n",
    "enc = OrdinalEncoder(categories='auto', dtype=int)\n",
    "enc.fit(adults_raw_test)\n",
    "adults_test=enc.transform(adults_raw_test)\n",
    "adults_input_test = adults_test[:,0:14]\n",
    "adults_input_test\n",
    "adults_target_test = adults_test[:,14]\n",
    "adults_target_test"
   ]
  },
  {
   "cell_type": "code",
   "execution_count": 5,
   "metadata": {},
   "outputs": [
    {
     "name": "stdout",
     "output_type": "stream",
     "text": [
      "[[10826  1592]\n",
      " [ 1609  2254]]\n",
      "0.8033904551317487\n",
      "0.5834843385969454\n",
      "0.5860634425377015\n",
      "0.5847710468283823\n"
     ]
    }
   ],
   "source": [
    "tclf.score(adults_input_test,adults_target_test)\n",
    "adults_test_predicted = tclf.predict(adults_input_test)\n",
    "cnf_matrix = m.confusion_matrix(adults_test_predicted, adults_target_test)\n",
    "print(cnf_matrix)\n",
    "print(m.accuracy_score(adults_target_test, adults_test_predicted))\n",
    "print(m.precision_score(adults_target_test, adults_test_predicted))\n",
    "print(m.recall_score(adults_target_test, adults_test_predicted))\n",
    "print(m.f1_score(adults_target_test, adults_test_predicted))"
   ]
  },
  {
   "cell_type": "code",
   "execution_count": 6,
   "metadata": {},
   "outputs": [
    {
     "name": "stdout",
     "output_type": "stream",
     "text": [
      "[[11627  2106]\n",
      " [  808  1740]]\n",
      "0.821018364965297\n",
      "0.6828885400313972\n",
      "0.45241809672386896\n",
      "0.5442602439787301\n"
     ]
    }
   ],
   "source": [
    "from sklearn.naive_bayes import GaussianNB\n",
    "gnb = GaussianNB()\n",
    "gnb.fit(adults_input,adults_target)\n",
    "gnb.score(adults_input_test,adults_target_test)\n",
    "gnb_adults_test_predicted = gnb.predict(adults_input_test)\n",
    "cnf_matrix = m.confusion_matrix(gnb_adults_test_predicted, adults_target_test)\n",
    "print(cnf_matrix)\n",
    "print(m.accuracy_score(adults_target_test, gnb_adults_test_predicted))\n",
    "print(m.precision_score(adults_target_test, gnb_adults_test_predicted))\n",
    "print(m.recall_score(adults_target_test, gnb_adults_test_predicted))\n",
    "print(m.f1_score(adults_target_test, gnb_adults_test_predicted))"
   ]
  },
  {
   "cell_type": "code",
   "execution_count": 9,
   "metadata": {},
   "outputs": [
    {
     "name": "stdout",
     "output_type": "stream",
     "text": [
      "[[12205  3044]\n",
      " [  230   802]]\n",
      "0.7989067010625883\n",
      "0.7771317829457365\n",
      "0.20852834113364535\n",
      "0.3288232882328823\n"
     ]
    }
   ],
   "source": [
    "from sklearn.svm import SVC\n",
    "svcl = SVC(gamma='scale')\n",
    "svcl.fit(adults_input,adults_target)\n",
    "svcl.score(adults_input_test,adults_target_test)\n",
    "svcl_adults_test_predicted = svcl.predict(adults_input_test)\n",
    "cnf_matrix = m.confusion_matrix(svcl_adults_test_predicted, adults_target_test)\n",
    "print(cnf_matrix)\n",
    "print(m.accuracy_score(adults_target_test, svcl_adults_test_predicted))\n",
    "print(m.precision_score(adults_target_test, svcl_adults_test_predicted))\n",
    "print(m.recall_score(adults_target_test, svcl_adults_test_predicted))\n",
    "print(m.f1_score(adults_target_test, svcl_adults_test_predicted))"
   ]
  },
  {
   "cell_type": "code",
   "execution_count": null,
   "metadata": {},
   "outputs": [],
   "source": []
  },
  {
   "cell_type": "code",
   "execution_count": null,
   "metadata": {},
   "outputs": [],
   "source": []
  }
 ],
 "metadata": {
  "kernelspec": {
   "display_name": "Python 3",
   "language": "python",
   "name": "python3"
  },
  "language_info": {
   "codemirror_mode": {
    "name": "ipython",
    "version": 3
   },
   "file_extension": ".py",
   "mimetype": "text/x-python",
   "name": "python",
   "nbconvert_exporter": "python",
   "pygments_lexer": "ipython3",
   "version": "3.7.1"
  }
 },
 "nbformat": 4,
 "nbformat_minor": 2
}
