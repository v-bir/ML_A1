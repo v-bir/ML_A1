{
 "cells": [
  {
   "cell_type": "code",
   "execution_count": 2,
   "metadata": {
    "slideshow": {
     "slide_type": "skip"
    }
   },
   "outputs": [],
   "source": [
    "import numpy as np\n",
    "import matplotlib.pyplot as plt\n",
    "from sklearn import tree\n",
    "from sklearn import metrics as m\n",
    "from sklearn.preprocessing import OrdinalEncoder\n",
    "from sklearn.preprocessing import LabelBinarizer\n",
    "from sklearn.model_selection import cross_val_score \n",
    "from sklearn.model_selection import RepeatedKFold\n",
    "import pandas as pd"
   ]
  },
  {
   "cell_type": "markdown",
   "metadata": {
    "slideshow": {
     "slide_type": "skip"
    }
   },
   "source": [
    "# Adults income dataset"
   ]
  },
  {
   "cell_type": "code",
   "execution_count": 216,
   "metadata": {
    "slideshow": {
     "slide_type": "skip"
    }
   },
   "outputs": [
    {
     "data": {
      "text/plain": [
       "array([0, 0, 0, ..., 0, 0, 1])"
      ]
     },
     "execution_count": 216,
     "metadata": {},
     "output_type": "execute_result"
    }
   ],
   "source": [
    "adults_raw = pd.read_csv(\"./Adult/adult.data\", header=None)\n",
    "enc = OrdinalEncoder(categories='auto', dtype=int)\n",
    "enc.fit(adults_raw)\n",
    "adults=enc.transform(adults_raw)\n",
    "adults_input = adults[:,0:14]\n",
    "adults_input\n",
    "adults_target = adults[:,14]\n",
    "adults_target"
   ]
  },
  {
   "cell_type": "markdown",
   "metadata": {
    "slideshow": {
     "slide_type": "skip"
    }
   },
   "source": [
    "### Decision Tree"
   ]
  },
  {
   "cell_type": "code",
   "execution_count": 217,
   "metadata": {
    "slideshow": {
     "slide_type": "skip"
    }
   },
   "outputs": [
    {
     "data": {
      "text/plain": [
       "DecisionTreeClassifier(class_weight=None, criterion='gini', max_depth=None,\n",
       "            max_features=None, max_leaf_nodes=None,\n",
       "            min_impurity_decrease=0.0, min_impurity_split=None,\n",
       "            min_samples_leaf=1, min_samples_split=2,\n",
       "            min_weight_fraction_leaf=0.0, presort=False, random_state=None,\n",
       "            splitter='best')"
      ]
     },
     "execution_count": 217,
     "metadata": {},
     "output_type": "execute_result"
    }
   ],
   "source": [
    "tclf = tree.DecisionTreeClassifier()\n",
    "tclf.fit(adults_input,adults_target)"
   ]
  },
  {
   "cell_type": "code",
   "execution_count": 218,
   "metadata": {
    "slideshow": {
     "slide_type": "skip"
    }
   },
   "outputs": [
    {
     "data": {
      "text/plain": [
       "array([0, 0, 1, ..., 0, 0, 1])"
      ]
     },
     "execution_count": 218,
     "metadata": {},
     "output_type": "execute_result"
    }
   ],
   "source": [
    "adults_raw_test = pd.read_csv(\"./Adult/adult.test\", header=None)\n",
    "enc = OrdinalEncoder(categories='auto', dtype=int)\n",
    "enc.fit(adults_raw_test)\n",
    "adults_test=enc.transform(adults_raw_test)\n",
    "adults_input_test = adults_test[:,0:14]\n",
    "adults_input_test\n",
    "adults_target_test = adults_test[:,14]\n",
    "adults_target_test"
   ]
  },
  {
   "cell_type": "code",
   "execution_count": 219,
   "metadata": {
    "slideshow": {
     "slide_type": "skip"
    }
   },
   "outputs": [
    {
     "name": "stdout",
     "output_type": "stream",
     "text": [
      "[[10812  1585]\n",
      " [ 1623  2261]]\n",
      "0.8029605061114182\n",
      "0.5821318228630278\n",
      "0.5878835153406137\n",
      "0.584993531694696\n"
     ]
    }
   ],
   "source": [
    "tclf.score(adults_input_test,adults_target_test)\n",
    "adults_test_predicted = tclf.predict(adults_input_test)\n",
    "cnf_matrix = m.confusion_matrix(adults_test_predicted, adults_target_test)\n",
    "print(cnf_matrix)\n",
    "print(m.accuracy_score(adults_target_test, adults_test_predicted))\n",
    "print(m.precision_score(adults_target_test, adults_test_predicted))\n",
    "print(m.recall_score(adults_target_test, adults_test_predicted))\n",
    "print(m.f1_score(adults_target_test, adults_test_predicted))"
   ]
  },
  {
   "cell_type": "markdown",
   "metadata": {
    "slideshow": {
     "slide_type": "skip"
    }
   },
   "source": [
    "### Naive Bayes"
   ]
  },
  {
   "cell_type": "code",
   "execution_count": 220,
   "metadata": {
    "slideshow": {
     "slide_type": "skip"
    }
   },
   "outputs": [
    {
     "name": "stdout",
     "output_type": "stream",
     "text": [
      "[[11627  2106]\n",
      " [  808  1740]]\n",
      "0.821018364965297\n",
      "0.6828885400313972\n",
      "0.45241809672386896\n",
      "0.5442602439787301\n"
     ]
    }
   ],
   "source": [
    "from sklearn.naive_bayes import GaussianNB\n",
    "gnb = GaussianNB()\n",
    "gnb.fit(adults_input,adults_target)\n",
    "gnb.score(adults_input_test,adults_target_test)\n",
    "gnb_adults_test_predicted = gnb.predict(adults_input_test)\n",
    "cnf_matrix = m.confusion_matrix(gnb_adults_test_predicted, adults_target_test)\n",
    "print(cnf_matrix)\n",
    "print(m.accuracy_score(adults_target_test, gnb_adults_test_predicted))\n",
    "print(m.precision_score(adults_target_test, gnb_adults_test_predicted))\n",
    "print(m.recall_score(adults_target_test, gnb_adults_test_predicted))\n",
    "print(m.f1_score(adults_target_test, gnb_adults_test_predicted))"
   ]
  },
  {
   "cell_type": "markdown",
   "metadata": {
    "slideshow": {
     "slide_type": "skip"
    }
   },
   "source": [
    "### Support vector machine"
   ]
  },
  {
   "cell_type": "code",
   "execution_count": 221,
   "metadata": {
    "slideshow": {
     "slide_type": "skip"
    }
   },
   "outputs": [
    {
     "name": "stdout",
     "output_type": "stream",
     "text": [
      "[[12205  3044]\n",
      " [  230   802]]\n",
      "0.7989067010625883\n",
      "0.7771317829457365\n",
      "0.20852834113364535\n",
      "0.3288232882328823\n"
     ]
    }
   ],
   "source": [
    "from sklearn.svm import SVC\n",
    "svcl = SVC(gamma='scale')\n",
    "svcl.fit(adults_input,adults_target)\n",
    "svcl.score(adults_input_test,adults_target_test)\n",
    "svcl_adults_test_predicted = svcl.predict(adults_input_test)\n",
    "cnf_matrix = m.confusion_matrix(svcl_adults_test_predicted, adults_target_test)\n",
    "print(cnf_matrix)\n",
    "print(m.accuracy_score(adults_target_test, svcl_adults_test_predicted))\n",
    "print(m.precision_score(adults_target_test, svcl_adults_test_predicted))\n",
    "print(m.recall_score(adults_target_test, svcl_adults_test_predicted))\n",
    "print(m.f1_score(adults_target_test, svcl_adults_test_predicted))"
   ]
  },
  {
   "cell_type": "markdown",
   "metadata": {
    "slideshow": {
     "slide_type": "slide"
    }
   },
   "source": [
    "-----------\n",
    "\n",
    "## Dishonest Internet users Dataset Data Set\n",
    "\n",
    "### The dataset was used to test an architecture based on a trust model capable to cope with the evaluation of the trustworthiness of users interacting in pervasive environments.\n",
    "\n",
    "Dataset Characeteristics: Multivariate <br>\n",
    "Attribute Characteristics: Integer, Real <br>\n",
    "Number of Instances: 322 <br>\n",
    "Number of Attributes: 5 <br>\n",
    "Missing Values: No \n",
    "\t"
   ]
  },
  {
   "cell_type": "code",
   "execution_count": 13,
   "metadata": {
    "slideshow": {
     "slide_type": "slide"
    }
   },
   "outputs": [
    {
     "data": {
      "image/png": "[encoded data removed]",
      "text/plain": [
       "<Figure size 432x288 with 1 Axes>"
      ]
     },
     "metadata": {
      "needs_background": "light"
     },
     "output_type": "display_data"
    },
    {
     "data": {
      "image/png": "[encoded data removed]",
      "text/plain": [
       "<Figure size 432x288 with 1 Axes>"
      ]
     },
     "metadata": {
      "needs_background": "light"
     },
     "output_type": "display_data"
    },
    {
     "data": {
      "image/png": "[encoded data removed]",
      "text/plain": [
       "<Figure size 432x288 with 1 Axes>"
      ]
     },
     "metadata": {
      "needs_background": "light"
     },
     "output_type": "display_data"
    },
    {
     "data": {
      "image/png": "[encoded data removed]",
      "text/plain": [
       "<Figure size 432x288 with 1 Axes>"
      ]
     },
     "metadata": {
      "needs_background": "light"
     },
     "output_type": "display_data"
    },
    {
     "data": {
      "image/png": "[encoded data removed]",
      "text/plain": [
       "<Figure size 432x288 with 1 Axes>"
      ]
     },
     "metadata": {
      "needs_background": "light"
     },
     "output_type": "display_data"
    }
   ],
   "source": [
    "from sklearn.model_selection import GridSearchCV\n",
    "\n",
    "header = ['CT','CU', 'LT', 'TC', 'TS']\n",
    "internet_raw = pd.read_csv('./internet/internet.txt', sep=' ',names=header)\n",
    "enc = OrdinalEncoder(categories='auto', dtype=int)\n",
    "enc.fit(internet_raw)\n",
    "internet=enc.transform(internet_raw)\n",
    "internet_input = internet[:,0:4]\n",
    "internet_target = internet[:,4]\n",
    "\n",
    "for item in header:\n",
    "    internet_raw[item].value_counts().plot(title = item, kind='bar')\n",
    "    plt.show()\n",
    "\n",
    "from sklearn.model_selection import cross_val_predict\n",
    "from sklearn.metrics import confusion_matrix\n",
    "\n",
    "def evaluate(clf,x,y, k):\n",
    "\n",
    "    cvs=cross_val_score(clf,x, y, scoring='accuracy', cv=k)\n",
    "    score=sum(cvs)/len(cvs)\n",
    "    print('Avg. 5 fold cross validation accuracy: '+str(score))\n",
    "\n",
    "    y_pred = cross_val_predict(clf, x, y, cv=5)\n",
    "    cnf = confusion_matrix(y, y_pred)\n",
    "    classes = [\"Trustworthy\",\"Untrustworthy\"]\n",
    "    plot_confusion_matrix(cnf,classes)"
   ]
  },
  {
   "cell_type": "code",
   "execution_count": 10,
   "metadata": {},
   "outputs": [],
   "source": [
    "import itertools\n",
    "def plot_confusion_matrix(cm,classes,\n",
    "                          title='Confusion matrix',\n",
    "                          cmap=plt.cm.Blues):\n",
    "\n",
    "    plt.imshow(cm, interpolation='nearest', cmap=cmap)\n",
    "    plt.title(title)\n",
    "    plt.colorbar()\n",
    "    tick_marks = np.arange(len(classes))\n",
    "    plt.xticks(tick_marks, classes, rotation=45)\n",
    "    plt.yticks(tick_marks, classes)\n",
    "\n",
    "    fmt = 'd'\n",
    "    thresh = cm.max() / 2.\n",
    "    for i, j in itertools.product(range(cm.shape[0]), range(cm.shape[1])):\n",
    "        plt.text(j, i, format(cm[i, j], fmt),\n",
    "                 horizontalalignment=\"center\",\n",
    "                 color=\"white\" if cm[i, j] > thresh else \"black\")\n",
    "\n",
    "    plt.ylabel('True label')\n",
    "    plt.xlabel('Predicted label')\n",
    "    plt.tight_layout()"
   ]
  },
  {
   "cell_type": "code",
   "execution_count": 14,
   "metadata": {},
   "outputs": [],
   "source": [
    "def get_pd_overview(cv_results):\n",
    "    pd_results = pd.DataFrame(grid_search.cv_results_)\n",
    "    params = pd_results.loc[:,\"params\"]\n",
    "    mean_test_scores = pd_results.loc[:,\"mean_test_score\"]\n",
    "    frames = [mean_test_scores, params]\n",
    "    overview = pd.concat(frames,  axis=1)\n",
    "    return overview"
   ]
  },
  {
   "cell_type": "markdown",
   "metadata": {
    "slideshow": {
     "slide_type": "skip"
    }
   },
   "source": [
    "### Decision Tree"
   ]
  },
  {
   "cell_type": "code",
   "execution_count": 15,
   "metadata": {
    "slideshow": {
     "slide_type": "slide"
    }
   },
   "outputs": [],
   "source": [
    "## DECISION TREE\n",
    "param_grid = [\n",
    "  {'max_depth': [1, 5, 10, 50], 'criterion': [\"gini\"]},\n",
    "  {'max_depth': [1, 5, 10, 50], 'criterion': [\"entropy\"]},\n",
    " ]\n",
    "\n",
    "tclf = tree.DecisionTreeClassifier()\n",
    "grid_search = GridSearchCV(tclf, param_grid, cv = 5, iid=False, return_train_score=True)\n",
    "grid_search.fit(internet_input, internet_target) \n",
    "cv_results = grid_search.cv_results_\n",
    "overview = get_pd_overview(cv_results)"
   ]
  },
  {
   "cell_type": "code",
   "execution_count": 17,
   "metadata": {},
   "outputs": [
    {
     "name": "stdout",
     "output_type": "stream",
     "text": [
      "   mean_test_score                                     params\n",
      "0         0.609567      {'criterion': 'gini', 'max_depth': 1}\n",
      "1         1.000000      {'criterion': 'gini', 'max_depth': 5}\n",
      "2         1.000000     {'criterion': 'gini', 'max_depth': 10}\n",
      "3         1.000000     {'criterion': 'gini', 'max_depth': 50}\n",
      "4         0.609567   {'criterion': 'entropy', 'max_depth': 1}\n",
      "5         0.993846   {'criterion': 'entropy', 'max_depth': 5}\n",
      "6         0.993846  {'criterion': 'entropy', 'max_depth': 10}\n",
      "7         1.000000  {'criterion': 'entropy', 'max_depth': 50}\n",
      "\n",
      "Best parameters:  {'criterion': 'gini', 'max_depth': 5}\n"
     ]
    }
   ],
   "source": [
    "print(overview)\n",
    "print(\"\\nBest parameters: \", grid_search.best_params_)"
   ]
  },
  {
   "cell_type": "code",
   "execution_count": 16,
   "metadata": {
    "slideshow": {
     "slide_type": "slide"
    }
   },
   "outputs": [
    {
     "name": "stdout",
     "output_type": "stream",
     "text": [
      "Avg. 5 fold cross validation accuracy: 0.9938461538461538\n"
     ]
    },
    {
     "data": {
      "image/png": "[encoded data removed]",
      "text/plain": [
       "<Figure size 432x288 with 2 Axes>"
      ]
     },
     "metadata": {
      "needs_background": "light"
     },
     "output_type": "display_data"
    }
   ],
   "source": [
    "tclf = grid_search.best_estimator_\n",
    "evaluate(tclf,internet_input, internet_target, 5)"
   ]
  },
  {
   "cell_type": "markdown",
   "metadata": {
    "slideshow": {
     "slide_type": "skip"
    }
   },
   "source": [
    "### Random Forest"
   ]
  },
  {
   "cell_type": "code",
   "execution_count": 18,
   "metadata": {
    "slideshow": {
     "slide_type": "slide"
    }
   },
   "outputs": [],
   "source": [
    "from sklearn.ensemble import RandomForestClassifier\n",
    "\n",
    "## RANDOM FOREST\n",
    "param_grid = [\n",
    "  {'n_estimators':[20,100,200],'max_depth': [1, 5, 10, 50], 'criterion': [\"gini\"]},\n",
    "  {'n_estimators':[20,100,200],'max_depth': [1, 5, 10, 50], 'criterion': [\"entropy\"]},\n",
    " ]\n",
    "\n",
    "rfclf = RandomForestClassifier()\n",
    "grid_search = GridSearchCV(rfclf, param_grid, cv = 5, iid=False, return_train_score=True)\n",
    "grid_search.fit(internet_input, internet_target) \n",
    "cv_results = grid_search.cv_results_\n",
    "overview = get_pd_overview(cv_results)"
   ]
  },
  {
   "cell_type": "code",
   "execution_count": 19,
   "metadata": {
    "slideshow": {
     "slide_type": "slide"
    }
   },
   "outputs": [
    {
     "name": "stdout",
     "output_type": "stream",
     "text": [
      "    mean_test_score                                             params\n",
      "0          0.699231  {'criterion': 'gini', 'max_depth': 1, 'n_estim...\n",
      "1          0.760769  {'criterion': 'gini', 'max_depth': 1, 'n_estim...\n",
      "2          0.760769  {'criterion': 'gini', 'max_depth': 1, 'n_estim...\n",
      "3          1.000000  {'criterion': 'gini', 'max_depth': 5, 'n_estim...\n",
      "4          1.000000  {'criterion': 'gini', 'max_depth': 5, 'n_estim...\n",
      "5          1.000000  {'criterion': 'gini', 'max_depth': 5, 'n_estim...\n",
      "6          1.000000  {'criterion': 'gini', 'max_depth': 10, 'n_esti...\n",
      "7          1.000000  {'criterion': 'gini', 'max_depth': 10, 'n_esti...\n",
      "8          1.000000  {'criterion': 'gini', 'max_depth': 10, 'n_esti...\n",
      "9          1.000000  {'criterion': 'gini', 'max_depth': 50, 'n_esti...\n",
      "10         1.000000  {'criterion': 'gini', 'max_depth': 50, 'n_esti...\n",
      "11         1.000000  {'criterion': 'gini', 'max_depth': 50, 'n_esti...\n",
      "12         0.760769  {'criterion': 'entropy', 'max_depth': 1, 'n_es...\n",
      "13         0.760769  {'criterion': 'entropy', 'max_depth': 1, 'n_es...\n",
      "14         0.760769  {'criterion': 'entropy', 'max_depth': 1, 'n_es...\n",
      "15         1.000000  {'criterion': 'entropy', 'max_depth': 5, 'n_es...\n",
      "16         1.000000  {'criterion': 'entropy', 'max_depth': 5, 'n_es...\n",
      "17         1.000000  {'criterion': 'entropy', 'max_depth': 5, 'n_es...\n",
      "18         1.000000  {'criterion': 'entropy', 'max_depth': 10, 'n_e...\n",
      "19         1.000000  {'criterion': 'entropy', 'max_depth': 10, 'n_e...\n",
      "20         1.000000  {'criterion': 'entropy', 'max_depth': 10, 'n_e...\n",
      "21         1.000000  {'criterion': 'entropy', 'max_depth': 50, 'n_e...\n",
      "22         1.000000  {'criterion': 'entropy', 'max_depth': 50, 'n_e...\n",
      "23         1.000000  {'criterion': 'entropy', 'max_depth': 50, 'n_e...\n",
      "\n",
      "Best parameters:  {'criterion': 'gini', 'max_depth': 5, 'n_estimators': 20}\n"
     ]
    }
   ],
   "source": [
    "print(overview)\n",
    "print(\"\\nBest parameters: \", grid_search.best_params_)\n"
   ]
  },
  {
   "cell_type": "code",
   "execution_count": 20,
   "metadata": {},
   "outputs": [
    {
     "name": "stdout",
     "output_type": "stream",
     "text": [
      "Avg. 5 fold cross validation accuracy: 1.0\n"
     ]
    },
    {
     "data": {
      "image/png": "[encoded data removed]",
      "text/plain": [
       "<Figure size 432x288 with 2 Axes>"
      ]
     },
     "metadata": {
      "needs_background": "light"
     },
     "output_type": "display_data"
    }
   ],
   "source": [
    "rfclf = grid_search.best_estimator_\n",
    "evaluate(rfclf,internet_input, internet_target, 5)"
   ]
  },
  {
   "cell_type": "markdown",
   "metadata": {
    "slideshow": {
     "slide_type": "notes"
    }
   },
   "source": [
    "### Naive Bayes"
   ]
  },
  {
   "cell_type": "code",
   "execution_count": 28,
   "metadata": {
    "slideshow": {
     "slide_type": "slide"
    }
   },
   "outputs": [
    {
     "data": {
      "text/plain": [
       "GaussianNB(priors=None, var_smoothing=1e-09)"
      ]
     },
     "execution_count": 28,
     "metadata": {},
     "output_type": "execute_result"
    }
   ],
   "source": [
    "from sklearn.naive_bayes import GaussianNB\n",
    "\n",
    "## GAUSSIAN NAIVE BAYES\n",
    "\n",
    "gnb = GaussianNB()\n",
    "gnb.fit(internet_input,internet_target)"
   ]
  },
  {
   "cell_type": "code",
   "execution_count": 29,
   "metadata": {
    "slideshow": {
     "slide_type": "slide"
    }
   },
   "outputs": [
    {
     "name": "stdout",
     "output_type": "stream",
     "text": [
      "Avg. 5 fold cross validation accuracy: 0.5588461538461539\n"
     ]
    },
    {
     "data": {
      "image/png": "[encoded data removed]",
      "text/plain": [
       "<Figure size 432x288 with 2 Axes>"
      ]
     },
     "metadata": {
      "needs_background": "light"
     },
     "output_type": "display_data"
    }
   ],
   "source": [
    "evaluate(gnb,internet_input, internet_target,5)"
   ]
  },
  {
   "cell_type": "markdown",
   "metadata": {
    "slideshow": {
     "slide_type": "skip"
    }
   },
   "source": [
    "### Support vector machine"
   ]
  },
  {
   "cell_type": "code",
   "execution_count": 23,
   "metadata": {
    "slideshow": {
     "slide_type": "slide"
    }
   },
   "outputs": [],
   "source": [
    "from sklearn.svm import SVC\n",
    "\n",
    "## SUPPORT VECTOR MACHINE\n",
    "\n",
    "svcl = SVC()\n",
    "param_grid = [\n",
    "  {'gamma': [0.001, 0.01, 0.1, 1.0, \"scale\"],'C': [0.1, 1, 10, 100, 1000], 'kernel': [\"rbf\"]}\n",
    " ]\n",
    "\n",
    "grid_search = GridSearchCV(svcl, param_grid, cv = 5, iid=False, return_train_score=True)\n",
    "\n",
    "grid_search.fit(internet_input, internet_target) \n",
    "cv_results = grid_search.cv_results_\n",
    "overview = get_pd_overview(cv_results)"
   ]
  },
  {
   "cell_type": "code",
   "execution_count": 24,
   "metadata": {},
   "outputs": [
    {
     "name": "stdout",
     "output_type": "stream",
     "text": [
      "    mean_test_score                                          params\n",
      "0          0.698798     {'C': 0.1, 'gamma': 0.001, 'kernel': 'rbf'}\n",
      "1          0.698798      {'C': 0.1, 'gamma': 0.01, 'kernel': 'rbf'}\n",
      "2          0.754615       {'C': 0.1, 'gamma': 0.1, 'kernel': 'rbf'}\n",
      "3          0.932308       {'C': 0.1, 'gamma': 1.0, 'kernel': 'rbf'}\n",
      "4          0.792019   {'C': 0.1, 'gamma': 'scale', 'kernel': 'rbf'}\n",
      "5          0.698798       {'C': 1, 'gamma': 0.001, 'kernel': 'rbf'}\n",
      "6          0.776394        {'C': 1, 'gamma': 0.01, 'kernel': 'rbf'}\n",
      "7          0.932212         {'C': 1, 'gamma': 0.1, 'kernel': 'rbf'}\n",
      "8          1.000000         {'C': 1, 'gamma': 1.0, 'kernel': 'rbf'}\n",
      "9          0.938462     {'C': 1, 'gamma': 'scale', 'kernel': 'rbf'}\n",
      "10         0.742548      {'C': 10, 'gamma': 0.001, 'kernel': 'rbf'}\n",
      "11         0.754856       {'C': 10, 'gamma': 0.01, 'kernel': 'rbf'}\n",
      "12         0.993750        {'C': 10, 'gamma': 0.1, 'kernel': 'rbf'}\n",
      "13         1.000000        {'C': 10, 'gamma': 1.0, 'kernel': 'rbf'}\n",
      "14         1.000000    {'C': 10, 'gamma': 'scale', 'kernel': 'rbf'}\n",
      "15         0.794856     {'C': 100, 'gamma': 0.001, 'kernel': 'rbf'}\n",
      "16         0.904519      {'C': 100, 'gamma': 0.01, 'kernel': 'rbf'}\n",
      "17         0.993750       {'C': 100, 'gamma': 0.1, 'kernel': 'rbf'}\n",
      "18         1.000000       {'C': 100, 'gamma': 1.0, 'kernel': 'rbf'}\n",
      "19         1.000000   {'C': 100, 'gamma': 'scale', 'kernel': 'rbf'}\n",
      "20         0.754856    {'C': 1000, 'gamma': 0.001, 'kernel': 'rbf'}\n",
      "21         0.993750     {'C': 1000, 'gamma': 0.01, 'kernel': 'rbf'}\n",
      "22         0.993750      {'C': 1000, 'gamma': 0.1, 'kernel': 'rbf'}\n",
      "23         1.000000      {'C': 1000, 'gamma': 1.0, 'kernel': 'rbf'}\n",
      "24         1.000000  {'C': 1000, 'gamma': 'scale', 'kernel': 'rbf'}\n",
      "\n",
      "Best parameters:  {'C': 1, 'gamma': 1.0, 'kernel': 'rbf'}\n"
     ]
    }
   ],
   "source": [
    "print(overview)\n",
    "print(\"\\nBest parameters: \", grid_search.best_params_)"
   ]
  },
  {
   "cell_type": "code",
   "execution_count": 27,
   "metadata": {
    "slideshow": {
     "slide_type": "slide"
    }
   },
   "outputs": [
    {
     "name": "stdout",
     "output_type": "stream",
     "text": [
      "Avg. 5 fold cross validation accuracy: 1.0\n"
     ]
    },
    {
     "data": {
      "image/png": "[encoded data removed]",
      "text/plain": [
       "<Figure size 432x288 with 2 Axes>"
      ]
     },
     "metadata": {
      "needs_background": "light"
     },
     "output_type": "display_data"
    }
   ],
   "source": [
    "svcl = grid_search.best_estimator_\n",
    "evaluate(svcl,internet_input, internet_target,5)"
   ]
  }
 ],
 "metadata": {
  "celltoolbar": "Slideshow",
  "kernelspec": {
   "display_name": "Python 3",
   "language": "python",
   "name": "python3"
  },
  "language_info": {
   "codemirror_mode": {
    "name": "ipython",
    "version": 3
   },
   "file_extension": ".py",
   "mimetype": "text/x-python",
   "name": "python",
   "nbconvert_exporter": "python",
   "pygments_lexer": "ipython3",
   "version": "3.7.0"
  }
 },
 "nbformat": 4,
 "nbformat_minor": 2
}
